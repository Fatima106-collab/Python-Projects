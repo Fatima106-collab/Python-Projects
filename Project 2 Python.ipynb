{
 "cells": [
  {
   "cell_type": "code",
   "execution_count": 1,
   "metadata": {},
   "outputs": [],
   "source": [
    "import pandas as pd"
   ]
  },
  {
   "cell_type": "code",
   "execution_count": 2,
   "metadata": {},
   "outputs": [],
   "source": [
    "import numpy as np"
   ]
  },
  {
   "cell_type": "code",
   "execution_count": 4,
   "metadata": {},
   "outputs": [],
   "source": [
    "file_path = r\"c:\\Users\\HP\\Downloads\\AdventureWorks_Customers.csv\"\n",
    "df = pd.read_csv(file_path, encoding=\"ISO-8859-1\")"
   ]
  },
  {
   "cell_type": "code",
   "execution_count": 31,
   "metadata": {},
   "outputs": [
    {
     "data": {
      "text/plain": [
       "<bound method DataFrame.info of        CustomerKey Prefix  FirstName LastName   BirthDate MaritalStatus  \\\n",
       "0            11000    MR.        JON     YANG  04/08/1966             M   \n",
       "1            11001    MR.     EUGENE    HUANG   5/14/1965             S   \n",
       "2            11002    MR.      RUBEN   TORRES  08/12/1965             M   \n",
       "3            11003    MS.    CHRISTY      ZHU   2/15/1968             S   \n",
       "4            11004   MRS.  ELIZABETH  JOHNSON  08/08/1968             S   \n",
       "...            ...    ...        ...      ...         ...           ...   \n",
       "18143        29479    MR.      TOMMY     TANG  07/04/1958             M   \n",
       "18144        29480   MRS.       NINA     RAJI  11/10/1960             S   \n",
       "18145        29481    MR.       IVAN     SURI  01/05/1960             S   \n",
       "18146        29482    MR.    CLAYTON    ZHANG  03/05/1959             M   \n",
       "18147        29483    MR.      JÉSUS  NAVARRO  12/08/1959             M   \n",
       "\n",
       "      Gender                    EmailAddress AnnualIncome  TotalChildren  \\\n",
       "0          M       jon24@adventure-works.com     $90,000               2   \n",
       "1          M    eugene10@adventure-works.com     $60,000               3   \n",
       "2          M     ruben35@adventure-works.com     $60,000               3   \n",
       "3          F   christy12@adventure-works.com     $70,000               0   \n",
       "4          F  elizabeth5@adventure-works.com     $80,000               5   \n",
       "...      ...                             ...          ...            ...   \n",
       "18143      M      tommy2@adventure-works.com     $30,000               1   \n",
       "18144      F      nina21@adventure-works.com     $30,000               3   \n",
       "18145      M       ivan0@adventure-works.com     $30,000               3   \n",
       "18146      M    clayton0@adventure-works.com     $30,000               3   \n",
       "18147      M      jésus9@adventure-works.com     $30,000               0   \n",
       "\n",
       "        EducationLevel    Occupation HomeOwner  \n",
       "0            Bachelors  Professional         Y  \n",
       "1            Bachelors  Professional         N  \n",
       "2            Bachelors  Professional         Y  \n",
       "3            Bachelors  Professional         N  \n",
       "4            Bachelors  Professional         Y  \n",
       "...                ...           ...       ...  \n",
       "18143  Graduate Degree      Clerical         Y  \n",
       "18144  Graduate Degree      Clerical         Y  \n",
       "18145  Graduate Degree      Clerical         N  \n",
       "18146        Bachelors      Clerical         Y  \n",
       "18147        Bachelors      Clerical         Y  \n",
       "\n",
       "[18148 rows x 13 columns]>"
      ]
     },
     "execution_count": 31,
     "metadata": {},
     "output_type": "execute_result"
    }
   ],
   "source": [
    "df.info"
   ]
  },
  {
   "cell_type": "code",
   "execution_count": 32,
   "metadata": {},
   "outputs": [
    {
     "name": "stdout",
     "output_type": "stream",
     "text": [
      "   CustomerKey Prefix  FirstName LastName   BirthDate MaritalStatus Gender  \\\n",
      "0        11000    MR.        JON     YANG  04/08/1966             M      M   \n",
      "1        11001    MR.     EUGENE    HUANG   5/14/1965             S      M   \n",
      "2        11002    MR.      RUBEN   TORRES  08/12/1965             M      M   \n",
      "3        11003    MS.    CHRISTY      ZHU   2/15/1968             S      F   \n",
      "4        11004   MRS.  ELIZABETH  JOHNSON  08/08/1968             S      F   \n",
      "\n",
      "                     EmailAddress AnnualIncome  TotalChildren EducationLevel  \\\n",
      "0       jon24@adventure-works.com     $90,000               2      Bachelors   \n",
      "1    eugene10@adventure-works.com     $60,000               3      Bachelors   \n",
      "2     ruben35@adventure-works.com     $60,000               3      Bachelors   \n",
      "3   christy12@adventure-works.com     $70,000               0      Bachelors   \n",
      "4  elizabeth5@adventure-works.com     $80,000               5      Bachelors   \n",
      "\n",
      "     Occupation HomeOwner  \n",
      "0  Professional         Y  \n",
      "1  Professional         N  \n",
      "2  Professional         Y  \n",
      "3  Professional         N  \n",
      "4  Professional         Y  \n"
     ]
    }
   ],
   "source": [
    "print(df.head())\n"
   ]
  },
  {
   "cell_type": "code",
   "execution_count": 7,
   "metadata": {},
   "outputs": [],
   "source": [
    "import matplotlib.pyplot as plt\n",
    "import seaborn as sns"
   ]
  },
  {
   "cell_type": "code",
   "execution_count": 11,
   "metadata": {},
   "outputs": [
    {
     "data": {
      "text/html": [
       "<div>\n",
       "<style scoped>\n",
       "    .dataframe tbody tr th:only-of-type {\n",
       "        vertical-align: middle;\n",
       "    }\n",
       "\n",
       "    .dataframe tbody tr th {\n",
       "        vertical-align: top;\n",
       "    }\n",
       "\n",
       "    .dataframe thead th {\n",
       "        text-align: right;\n",
       "    }\n",
       "</style>\n",
       "<table border=\"1\" class=\"dataframe\">\n",
       "  <thead>\n",
       "    <tr style=\"text-align: right;\">\n",
       "      <th></th>\n",
       "      <th>EducationLevel</th>\n",
       "    </tr>\n",
       "  </thead>\n",
       "  <tbody>\n",
       "    <tr>\n",
       "      <th>count</th>\n",
       "      <td>18148</td>\n",
       "    </tr>\n",
       "    <tr>\n",
       "      <th>unique</th>\n",
       "      <td>5</td>\n",
       "    </tr>\n",
       "    <tr>\n",
       "      <th>top</th>\n",
       "      <td>Bachelors</td>\n",
       "    </tr>\n",
       "    <tr>\n",
       "      <th>freq</th>\n",
       "      <td>5261</td>\n",
       "    </tr>\n",
       "  </tbody>\n",
       "</table>\n",
       "</div>"
      ],
      "text/plain": [
       "       EducationLevel\n",
       "count           18148\n",
       "unique              5\n",
       "top         Bachelors\n",
       "freq             5261"
      ]
     },
     "execution_count": 11,
     "metadata": {},
     "output_type": "execute_result"
    }
   ],
   "source": [
    "df[['EducationLevel']].describe()\n",
    "\n"
   ]
  },
  {
   "cell_type": "code",
   "execution_count": 21,
   "metadata": {},
   "outputs": [
    {
     "name": "stdout",
     "output_type": "stream",
     "text": [
      "Index(['CustomerKey', 'Prefix', 'FirstName', 'LastName', 'BirthDate',\n",
      "       'MaritalStatus', 'Gender', 'EmailAddress', 'AnnualIncome',\n",
      "       'TotalChildren', 'EducationLevel', 'Occupation', 'HomeOwner'],\n",
      "      dtype='object')\n"
     ]
    }
   ],
   "source": [
    "print(df.columns)\n"
   ]
  },
  {
   "cell_type": "code",
   "execution_count": 26,
   "metadata": {},
   "outputs": [
    {
     "data": {
      "text/html": [
       "<div>\n",
       "<style scoped>\n",
       "    .dataframe tbody tr th:only-of-type {\n",
       "        vertical-align: middle;\n",
       "    }\n",
       "\n",
       "    .dataframe tbody tr th {\n",
       "        vertical-align: top;\n",
       "    }\n",
       "\n",
       "    .dataframe thead th {\n",
       "        text-align: right;\n",
       "    }\n",
       "</style>\n",
       "<table border=\"1\" class=\"dataframe\">\n",
       "  <thead>\n",
       "    <tr style=\"text-align: right;\">\n",
       "      <th></th>\n",
       "      <th>CustomerKey</th>\n",
       "      <th>Prefix</th>\n",
       "      <th>FirstName</th>\n",
       "      <th>LastName</th>\n",
       "      <th>BirthDate</th>\n",
       "      <th>MaritalStatus</th>\n",
       "      <th>Gender</th>\n",
       "      <th>EmailAddress</th>\n",
       "      <th>AnnualIncome</th>\n",
       "      <th>TotalChildren</th>\n",
       "      <th>EducationLevel</th>\n",
       "      <th>Occupation</th>\n",
       "      <th>HomeOwner</th>\n",
       "    </tr>\n",
       "  </thead>\n",
       "  <tbody>\n",
       "    <tr>\n",
       "      <th>0</th>\n",
       "      <td>11000</td>\n",
       "      <td>MR.</td>\n",
       "      <td>JON</td>\n",
       "      <td>YANG</td>\n",
       "      <td>04/08/1966</td>\n",
       "      <td>M</td>\n",
       "      <td>M</td>\n",
       "      <td>jon24@adventure-works.com</td>\n",
       "      <td>$90,000</td>\n",
       "      <td>2</td>\n",
       "      <td>Bachelors</td>\n",
       "      <td>Professional</td>\n",
       "      <td>Y</td>\n",
       "    </tr>\n",
       "    <tr>\n",
       "      <th>1</th>\n",
       "      <td>11001</td>\n",
       "      <td>MR.</td>\n",
       "      <td>EUGENE</td>\n",
       "      <td>HUANG</td>\n",
       "      <td>5/14/1965</td>\n",
       "      <td>S</td>\n",
       "      <td>M</td>\n",
       "      <td>eugene10@adventure-works.com</td>\n",
       "      <td>$60,000</td>\n",
       "      <td>3</td>\n",
       "      <td>Bachelors</td>\n",
       "      <td>Professional</td>\n",
       "      <td>N</td>\n",
       "    </tr>\n",
       "    <tr>\n",
       "      <th>2</th>\n",
       "      <td>11002</td>\n",
       "      <td>MR.</td>\n",
       "      <td>RUBEN</td>\n",
       "      <td>TORRES</td>\n",
       "      <td>08/12/1965</td>\n",
       "      <td>M</td>\n",
       "      <td>M</td>\n",
       "      <td>ruben35@adventure-works.com</td>\n",
       "      <td>$60,000</td>\n",
       "      <td>3</td>\n",
       "      <td>Bachelors</td>\n",
       "      <td>Professional</td>\n",
       "      <td>Y</td>\n",
       "    </tr>\n",
       "    <tr>\n",
       "      <th>3</th>\n",
       "      <td>11003</td>\n",
       "      <td>MS.</td>\n",
       "      <td>CHRISTY</td>\n",
       "      <td>ZHU</td>\n",
       "      <td>2/15/1968</td>\n",
       "      <td>S</td>\n",
       "      <td>F</td>\n",
       "      <td>christy12@adventure-works.com</td>\n",
       "      <td>$70,000</td>\n",
       "      <td>0</td>\n",
       "      <td>Bachelors</td>\n",
       "      <td>Professional</td>\n",
       "      <td>N</td>\n",
       "    </tr>\n",
       "    <tr>\n",
       "      <th>4</th>\n",
       "      <td>11004</td>\n",
       "      <td>MRS.</td>\n",
       "      <td>ELIZABETH</td>\n",
       "      <td>JOHNSON</td>\n",
       "      <td>08/08/1968</td>\n",
       "      <td>S</td>\n",
       "      <td>F</td>\n",
       "      <td>elizabeth5@adventure-works.com</td>\n",
       "      <td>$80,000</td>\n",
       "      <td>5</td>\n",
       "      <td>Bachelors</td>\n",
       "      <td>Professional</td>\n",
       "      <td>Y</td>\n",
       "    </tr>\n",
       "    <tr>\n",
       "      <th>...</th>\n",
       "      <td>...</td>\n",
       "      <td>...</td>\n",
       "      <td>...</td>\n",
       "      <td>...</td>\n",
       "      <td>...</td>\n",
       "      <td>...</td>\n",
       "      <td>...</td>\n",
       "      <td>...</td>\n",
       "      <td>...</td>\n",
       "      <td>...</td>\n",
       "      <td>...</td>\n",
       "      <td>...</td>\n",
       "      <td>...</td>\n",
       "    </tr>\n",
       "    <tr>\n",
       "      <th>18143</th>\n",
       "      <td>29479</td>\n",
       "      <td>MR.</td>\n",
       "      <td>TOMMY</td>\n",
       "      <td>TANG</td>\n",
       "      <td>07/04/1958</td>\n",
       "      <td>M</td>\n",
       "      <td>M</td>\n",
       "      <td>tommy2@adventure-works.com</td>\n",
       "      <td>$30,000</td>\n",
       "      <td>1</td>\n",
       "      <td>Graduate Degree</td>\n",
       "      <td>Clerical</td>\n",
       "      <td>Y</td>\n",
       "    </tr>\n",
       "    <tr>\n",
       "      <th>18144</th>\n",
       "      <td>29480</td>\n",
       "      <td>MRS.</td>\n",
       "      <td>NINA</td>\n",
       "      <td>RAJI</td>\n",
       "      <td>11/10/1960</td>\n",
       "      <td>S</td>\n",
       "      <td>F</td>\n",
       "      <td>nina21@adventure-works.com</td>\n",
       "      <td>$30,000</td>\n",
       "      <td>3</td>\n",
       "      <td>Graduate Degree</td>\n",
       "      <td>Clerical</td>\n",
       "      <td>Y</td>\n",
       "    </tr>\n",
       "    <tr>\n",
       "      <th>18145</th>\n",
       "      <td>29481</td>\n",
       "      <td>MR.</td>\n",
       "      <td>IVAN</td>\n",
       "      <td>SURI</td>\n",
       "      <td>01/05/1960</td>\n",
       "      <td>S</td>\n",
       "      <td>M</td>\n",
       "      <td>ivan0@adventure-works.com</td>\n",
       "      <td>$30,000</td>\n",
       "      <td>3</td>\n",
       "      <td>Graduate Degree</td>\n",
       "      <td>Clerical</td>\n",
       "      <td>N</td>\n",
       "    </tr>\n",
       "    <tr>\n",
       "      <th>18146</th>\n",
       "      <td>29482</td>\n",
       "      <td>MR.</td>\n",
       "      <td>CLAYTON</td>\n",
       "      <td>ZHANG</td>\n",
       "      <td>03/05/1959</td>\n",
       "      <td>M</td>\n",
       "      <td>M</td>\n",
       "      <td>clayton0@adventure-works.com</td>\n",
       "      <td>$30,000</td>\n",
       "      <td>3</td>\n",
       "      <td>Bachelors</td>\n",
       "      <td>Clerical</td>\n",
       "      <td>Y</td>\n",
       "    </tr>\n",
       "    <tr>\n",
       "      <th>18147</th>\n",
       "      <td>29483</td>\n",
       "      <td>MR.</td>\n",
       "      <td>JÉSUS</td>\n",
       "      <td>NAVARRO</td>\n",
       "      <td>12/08/1959</td>\n",
       "      <td>M</td>\n",
       "      <td>M</td>\n",
       "      <td>jésus9@adventure-works.com</td>\n",
       "      <td>$30,000</td>\n",
       "      <td>0</td>\n",
       "      <td>Bachelors</td>\n",
       "      <td>Clerical</td>\n",
       "      <td>Y</td>\n",
       "    </tr>\n",
       "  </tbody>\n",
       "</table>\n",
       "<p>18148 rows × 13 columns</p>\n",
       "</div>"
      ],
      "text/plain": [
       "       CustomerKey Prefix  FirstName LastName   BirthDate MaritalStatus  \\\n",
       "0            11000    MR.        JON     YANG  04/08/1966             M   \n",
       "1            11001    MR.     EUGENE    HUANG   5/14/1965             S   \n",
       "2            11002    MR.      RUBEN   TORRES  08/12/1965             M   \n",
       "3            11003    MS.    CHRISTY      ZHU   2/15/1968             S   \n",
       "4            11004   MRS.  ELIZABETH  JOHNSON  08/08/1968             S   \n",
       "...            ...    ...        ...      ...         ...           ...   \n",
       "18143        29479    MR.      TOMMY     TANG  07/04/1958             M   \n",
       "18144        29480   MRS.       NINA     RAJI  11/10/1960             S   \n",
       "18145        29481    MR.       IVAN     SURI  01/05/1960             S   \n",
       "18146        29482    MR.    CLAYTON    ZHANG  03/05/1959             M   \n",
       "18147        29483    MR.      JÉSUS  NAVARRO  12/08/1959             M   \n",
       "\n",
       "      Gender                    EmailAddress AnnualIncome  TotalChildren  \\\n",
       "0          M       jon24@adventure-works.com     $90,000               2   \n",
       "1          M    eugene10@adventure-works.com     $60,000               3   \n",
       "2          M     ruben35@adventure-works.com     $60,000               3   \n",
       "3          F   christy12@adventure-works.com     $70,000               0   \n",
       "4          F  elizabeth5@adventure-works.com     $80,000               5   \n",
       "...      ...                             ...          ...            ...   \n",
       "18143      M      tommy2@adventure-works.com     $30,000               1   \n",
       "18144      F      nina21@adventure-works.com     $30,000               3   \n",
       "18145      M       ivan0@adventure-works.com     $30,000               3   \n",
       "18146      M    clayton0@adventure-works.com     $30,000               3   \n",
       "18147      M      jésus9@adventure-works.com     $30,000               0   \n",
       "\n",
       "        EducationLevel    Occupation HomeOwner  \n",
       "0            Bachelors  Professional         Y  \n",
       "1            Bachelors  Professional         N  \n",
       "2            Bachelors  Professional         Y  \n",
       "3            Bachelors  Professional         N  \n",
       "4            Bachelors  Professional         Y  \n",
       "...                ...           ...       ...  \n",
       "18143  Graduate Degree      Clerical         Y  \n",
       "18144  Graduate Degree      Clerical         Y  \n",
       "18145  Graduate Degree      Clerical         N  \n",
       "18146        Bachelors      Clerical         Y  \n",
       "18147        Bachelors      Clerical         Y  \n",
       "\n",
       "[18148 rows x 13 columns]"
      ]
     },
     "execution_count": 26,
     "metadata": {},
     "output_type": "execute_result"
    }
   ],
   "source": [
    "df.dropna(how='all')"
   ]
  },
  {
   "cell_type": "code",
   "execution_count": 33,
   "metadata": {},
   "outputs": [
    {
     "data": {
      "text/plain": [
       "0        False\n",
       "1        False\n",
       "2        False\n",
       "3        False\n",
       "4        False\n",
       "         ...  \n",
       "18143    False\n",
       "18144    False\n",
       "18145    False\n",
       "18146    False\n",
       "18147    False\n",
       "Name: FirstName, Length: 18148, dtype: bool"
      ]
     },
     "execution_count": 33,
     "metadata": {},
     "output_type": "execute_result"
    }
   ],
   "source": [
    "df['FirstName']==True #عملت تصفيه للداتا"
   ]
  },
  {
   "cell_type": "code",
   "execution_count": null,
   "metadata": {},
   "outputs": [],
   "source": [
    "df['AnnualIncome'] = pd.to_numeric(df['AnnualIncome'], errors='coerce')  #حولت الداتا بتاعت AnnualIncome لى Numaric \n"
   ]
  },
  {
   "cell_type": "code",
   "execution_count": 41,
   "metadata": {},
   "outputs": [
    {
     "data": {
      "text/html": [
       "<div>\n",
       "<style scoped>\n",
       "    .dataframe tbody tr th:only-of-type {\n",
       "        vertical-align: middle;\n",
       "    }\n",
       "\n",
       "    .dataframe tbody tr th {\n",
       "        vertical-align: top;\n",
       "    }\n",
       "\n",
       "    .dataframe thead th {\n",
       "        text-align: right;\n",
       "    }\n",
       "</style>\n",
       "<table border=\"1\" class=\"dataframe\">\n",
       "  <thead>\n",
       "    <tr style=\"text-align: right;\">\n",
       "      <th></th>\n",
       "      <th>CustomerKey</th>\n",
       "      <th>Prefix</th>\n",
       "      <th>FirstName</th>\n",
       "      <th>LastName</th>\n",
       "      <th>BirthDate</th>\n",
       "      <th>MaritalStatus</th>\n",
       "      <th>Gender</th>\n",
       "      <th>EmailAddress</th>\n",
       "      <th>AnnualIncome</th>\n",
       "      <th>TotalChildren</th>\n",
       "      <th>EducationLevel</th>\n",
       "      <th>Occupation</th>\n",
       "      <th>HomeOwner</th>\n",
       "    </tr>\n",
       "  </thead>\n",
       "  <tbody>\n",
       "  </tbody>\n",
       "</table>\n",
       "</div>"
      ],
      "text/plain": [
       "Empty DataFrame\n",
       "Columns: [CustomerKey, Prefix, FirstName, LastName, BirthDate, MaritalStatus, Gender, EmailAddress, AnnualIncome, TotalChildren, EducationLevel, Occupation, HomeOwner]\n",
       "Index: []"
      ]
     },
     "execution_count": 41,
     "metadata": {},
     "output_type": "execute_result"
    }
   ],
   "source": [
    " df[(df['EducationLevel'] == 'Graduate Degree') & (df['AnnualIncome'] >= 50000)]\n"
   ]
  },
  {
   "cell_type": "code",
   "execution_count": 49,
   "metadata": {},
   "outputs": [
    {
     "name": "stdout",
     "output_type": "stream",
     "text": [
      "0       NaN\n",
      "1       NaN\n",
      "2       NaN\n",
      "3       NaN\n",
      "4       NaN\n",
      "         ..\n",
      "18143   NaN\n",
      "18144   NaN\n",
      "18145   NaN\n",
      "18146   NaN\n",
      "18147   NaN\n",
      "Name: AnnualIncome, Length: 18148, dtype: float64\n"
     ]
    }
   ],
   "source": [
    "print(df.AnnualIncome)"
   ]
  },
  {
   "cell_type": "code",
   "execution_count": null,
   "metadata": {},
   "outputs": [],
   "source": []
  }
 ],
 "metadata": {
  "kernelspec": {
   "display_name": "base",
   "language": "python",
   "name": "python3"
  },
  "language_info": {
   "codemirror_mode": {
    "name": "ipython",
    "version": 3
   },
   "file_extension": ".py",
   "mimetype": "text/x-python",
   "name": "python",
   "nbconvert_exporter": "python",
   "pygments_lexer": "ipython3",
   "version": "3.12.4"
  }
 },
 "nbformat": 4,
 "nbformat_minor": 2
}
